{
 "cells": [
  {
   "cell_type": "code",
   "execution_count": 2,
   "metadata": {},
   "outputs": [],
   "source": [
    "def getWhatsappTXT():\n",
    "    try: \n",
    "        file=open(\"צאט WhatsApp עם יום הולדת בנות לנויה.txt\",\"r\", encoding=\"UTF-8\")\n",
    "        filePerline=file.readlines()\n",
    "        return filePerline\n",
    "        \n",
    "    except: \n",
    "        print('file can not be open')\n",
    "        quite()"
   ]
  },
  {
   "cell_type": "code",
   "execution_count": 3,
   "metadata": {},
   "outputs": [],
   "source": [
    "def NumOrNameToID(file):\n",
    "    participant=dict()\n",
    "    idcount=1\n",
    "    for line in file:\n",
    "        line=line.rstrip()\n",
    "        if (line.count(\":\")<2 or line.find(\":\",line.find(\"-\"))==-1):\n",
    "            continue\n",
    "        startName_num=line.find(\"-\")\n",
    "        endName_num=line.find(\":\",startName_num)\n",
    "        numOrname=line[startName_num+1:endName_num-1]\n",
    "        if numOrname not in participant:\n",
    "            participant[numOrname]=idcount\n",
    "            idcount=idcount+1\n",
    "    return participant"
   ]
  },
  {
   "cell_type": "code",
   "execution_count": 12,
   "metadata": {},
   "outputs": [],
   "source": [
    "def DataOfMessages(file, participant):\n",
    "    messages=dict()\n",
    "    fullmessages=[]\n",
    "    countline=0\n",
    "    for line in file:\n",
    "        line=line.rstrip()\n",
    "        countline=countline+1\n",
    "        if (line.count(\":\")<2 or line.find(\":\",line.find(\"-\"))==-1):\n",
    "            continue\n",
    "        enddate=line.find(\"-\")\n",
    "        startname_num=line.find(\"-\")\n",
    "        endname_num=line.find(\":\",startname_num)\n",
    "        DateAndHour=line[:enddate-1]\n",
    "        messages.update({\"datetime\" : DateAndHour})\n",
    "        thename_num=line[startname_num+1:endname_num-1]\n",
    "        Theid=participant[thename_num]\n",
    "        messages.update({\"id\" : Theid})\n",
    "        if countline<len(file):\n",
    "            nextrow=file[countline]\n",
    "            if (nextrow.find(\":\")==-1):\n",
    "                Text=line[endname_num+1:]+ nextrow.rstrip()\n",
    "            else:\n",
    "                Text=line[endname_num+1:]\n",
    "        else:\n",
    "            Text=line[endname_num+1:]\n",
    "        messages.update({\"text\" : Text})\n",
    "        messages_copy = messages.copy()\n",
    "        fullmessages.append(messages_copy)\n",
    "    return fullmessages"
   ]
  },
  {
   "cell_type": "code",
   "execution_count": 7,
   "metadata": {},
   "outputs": [],
   "source": [
    "def DataOfGroup(file, participant):\n",
    "    Groupdata=dict()\n",
    "    import re\n",
    "    for line in file:\n",
    "        correct_line=line.rstrip()\n",
    "        if (correct_line.count(\":\")<2 or correct_line.find(\":\",correct_line.find(\"-\"))==-1):\n",
    "            if re.search(\"נוצרה על ידי\",correct_line):\n",
    "                BeforeTitle=correct_line.find(\"הקבוצה\")\n",
    "                AfterTitle=correct_line.find(\"נוצרה על ידי\",BeforeTitle)\n",
    "                Title=correct_line[BeforeTitle+8:AfterTitle-2]\n",
    "                enddate=correct_line.find(\"-\")\n",
    "                Creationdate=correct_line[:enddate-1]\n",
    "                Creator=correct_line[AfterTitle+12:]\n",
    "                numParticipant=len(participant)\n",
    "                Groupdata.update({\"chat_name\" : Title, \"creation_date\" : Creationdate, \"num_of_participants\" : numParticipant, \"creator\" : Creator})\n",
    "    return Groupdata"
   ]
  },
  {
   "cell_type": "code",
   "execution_count": 8,
   "metadata": {},
   "outputs": [],
   "source": [
    "def TotalMetadataOfGroup(fullmessages, Groupdata):\n",
    "    Totalmetadata=dict()\n",
    "    Totalmetadata.update({\"messages\" :  fullmessages})\n",
    "    Totalmetadata.update({\"metadata\" :  Groupdata})\n",
    "    return Totalmetadata\n"
   ]
  },
  {
   "cell_type": "code",
   "execution_count": 9,
   "metadata": {},
   "outputs": [],
   "source": [
    "def FileToJson(Groupdata, Totalmetadata):\n",
    "    import json\n",
    "    with open(Groupdata[\"chat_name\"]+ \".txt\", 'w', encoding='utf-8') as ChatInJson_Textfile:\n",
    "        json.dump(Totalmetadata, ChatInJson_Textfile,  ensure_ascii=False, indent=4)"
   ]
  },
  {
   "cell_type": "code",
   "execution_count": 13,
   "metadata": {},
   "outputs": [],
   "source": [
    "file= getWhatsappTXT()\n",
    "participant= NumOrNameToID(file)\n",
    "fullmessages= DataOfMessages(file, participant)\n",
    "Groupdata= DataOfGroup(file, participant)\n",
    "Totalmetadata= TotalMetadataOfGroup(fullmessages, Groupdata)\n",
    "FileToJson(Groupdata, Totalmetadata)"
   ]
  }
 ],
 "metadata": {
  "kernelspec": {
   "display_name": "Python 3",
   "language": "python",
   "name": "python3"
  },
  "language_info": {
   "codemirror_mode": {
    "name": "ipython",
    "version": 3
   },
   "file_extension": ".py",
   "mimetype": "text/x-python",
   "name": "python",
   "nbconvert_exporter": "python",
   "pygments_lexer": "ipython3",
   "version": "3.8.5"
  }
 },
 "nbformat": 4,
 "nbformat_minor": 4
}
